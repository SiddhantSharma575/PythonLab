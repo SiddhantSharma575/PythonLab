{
  "nbformat": 4,
  "nbformat_minor": 0,
  "metadata": {
    "colab": {
      "name": "25Programs.ipynb",
      "provenance": [],
      "collapsed_sections": []
    },
    "kernelspec": {
      "name": "python3",
      "display_name": "Python 3"
    },
    "language_info": {
      "name": "python"
    }
  },
  "cells": [
    {
      "cell_type": "markdown",
      "metadata": {
        "id": "JLOPdtWwSDeu"
      },
      "source": [
        "**Display float number with 2 decimal places using print()**"
      ]
    },
    {
      "cell_type": "markdown",
      "metadata": {
        "id": "P2g37j4SWW2i"
      },
      "source": [
        ""
      ]
    },
    {
      "cell_type": "code",
      "metadata": {
        "colab": {
          "base_uri": "https://localhost:8080/"
        },
        "id": "d4irKe2DSCR3",
        "outputId": "df39ca95-01d0-4250-ee52-34a463125316"
      },
      "source": [
        "float = 2.154327\n",
        "format_float = \"{:.2f}\".format(float)\n",
        "print(format_float)"
      ],
      "execution_count": null,
      "outputs": [
        {
          "output_type": "stream",
          "name": "stdout",
          "text": [
            "2.15\n"
          ]
        }
      ]
    },
    {
      "cell_type": "markdown",
      "metadata": {
        "id": "sGvq9uhASlsZ"
      },
      "source": [
        "**Takes two integer numbers and  return their product.**"
      ]
    },
    {
      "cell_type": "code",
      "metadata": {
        "colab": {
          "base_uri": "https://localhost:8080/"
        },
        "id": "Exwo2KtBStVM",
        "outputId": "35517fb5-2047-4c2b-eeb6-bcf0f5299d72"
      },
      "source": [
        "n1 = int(input(\"Enter a number: \"))\n",
        "n2 = int(input(\"Enter another number: \"))\n",
        "\n",
        "prod = n1*n2\n",
        "\n",
        "print(prod)"
      ],
      "execution_count": null,
      "outputs": [
        {
          "output_type": "stream",
          "name": "stdout",
          "text": [
            "Enter a number: 10\n",
            "Enter another number: 20\n",
            "200\n"
          ]
        }
      ]
    },
    {
      "cell_type": "markdown",
      "metadata": {
        "id": "1Sxv6rePS6G3"
      },
      "source": [
        "**Write a Python program to get the volume of a sphere with radius 10.**\n"
      ]
    },
    {
      "cell_type": "code",
      "metadata": {
        "colab": {
          "base_uri": "https://localhost:8080/"
        },
        "id": "kFc9HUSrTGnN",
        "outputId": "f601264a-e8e5-4a61-e4c5-595713ebc532"
      },
      "source": [
        "pi = 3.1415926535897931\n",
        "r= 10.0\n",
        "V= 4.0/3.0*pi* r**3\n",
        "print('The volume of the sphere is: ',V)"
      ],
      "execution_count": null,
      "outputs": [
        {
          "output_type": "stream",
          "name": "stdout",
          "text": [
            "The volume of the sphere is:  4188.790204786391\n"
          ]
        }
      ]
    },
    {
      "cell_type": "markdown",
      "metadata": {
        "id": "9_xJaFt_TTCe"
      },
      "source": [
        "**Write a Python program to calculate the length of a string**\n"
      ]
    },
    {
      "cell_type": "code",
      "metadata": {
        "colab": {
          "base_uri": "https://localhost:8080/"
        },
        "id": "12bQMNvwTh0r",
        "outputId": "c318c6ff-35cf-49bc-c9ae-fca9654a7a3d"
      },
      "source": [
        "str = input(\"Enter a string: \")\n",
        "print(\"Length of the input string is:\", len(str))"
      ],
      "execution_count": null,
      "outputs": [
        {
          "output_type": "stream",
          "name": "stdout",
          "text": [
            "Enter a string: Siddhant\n",
            "Length of the input string is: 8\n"
          ]
        }
      ]
    },
    {
      "cell_type": "markdown",
      "metadata": {
        "id": "5TxzLCyETv-L"
      },
      "source": [
        "**Write a Python program to parse a string to Float & Integer**\n"
      ]
    },
    {
      "cell_type": "code",
      "metadata": {
        "colab": {
          "base_uri": "https://localhost:8080/"
        },
        "id": "mYgEjnIoTyPo",
        "outputId": "d09b8dd9-ad50-4143-8c52-08dc04265c08"
      },
      "source": [
        "str1 = \"6000\"\n",
        "casted_int = int(str1)\n",
        "print(casted_int)\n"
      ],
      "execution_count": null,
      "outputs": [
        {
          "output_type": "stream",
          "name": "stdout",
          "text": [
            "6000\n"
          ]
        }
      ]
    },
    {
      "cell_type": "markdown",
      "metadata": {
        "id": "wQatHdLMWY0k"
      },
      "source": [
        "**Given two integer numbers return their sum. If the sum is greater than 100, then return their product.**"
      ]
    },
    {
      "cell_type": "code",
      "metadata": {
        "colab": {
          "base_uri": "https://localhost:8080/"
        },
        "id": "Z6gb7gAoWfOq",
        "outputId": "cff5a543-b99b-4ec0-ef2e-be02525bedc9"
      },
      "source": [
        "n1 = int(input(\"Enter First Number\"))\n",
        "n2 = int(input(\"Enter Second Number\"))\n",
        "\n",
        "sum = n1+n2\n",
        "mul = n1*n2\n",
        "\n",
        "if(sum > 100):\n",
        "    print(mul)\n",
        "else:\n",
        "    print(sum)\n",
        "\n"
      ],
      "execution_count": null,
      "outputs": [
        {
          "output_type": "stream",
          "name": "stdout",
          "text": [
            "Enter First Number50\n",
            "Enter Second Number60\n",
            "3000\n"
          ]
        }
      ]
    },
    {
      "cell_type": "markdown",
      "metadata": {
        "id": "5Fr3c1HbXaz8"
      },
      "source": [
        "**Write a Python program to calculate the sum of three given numbers, if the values are not - equal then return four times of their sum**"
      ]
    },
    {
      "cell_type": "code",
      "metadata": {
        "colab": {
          "base_uri": "https://localhost:8080/"
        },
        "id": "z3rZ6oEgXdY7",
        "outputId": "67423068-9ebf-44a1-f5eb-fd1be19b6094"
      },
      "source": [
        "n1 = int(input(\"Enter First Number \"))\n",
        "n2 = int(input(\"Enter Second Number \"))\n",
        "n3 = int(input(\"Enter Third Number \"))\n",
        "\n",
        "sum = n1 + n2 + n3\n",
        "if(n1 != n2):\n",
        "    print(4*sum)\n",
        "elif(n1 == n2 and  n2 == n3 ):\n",
        "    print(sum)\n"
      ],
      "execution_count": null,
      "outputs": [
        {
          "output_type": "stream",
          "name": "stdout",
          "text": [
            "Enter First Number 10\n",
            "Enter Second Number 10\n",
            "Enter Third Number 10\n",
            "30\n"
          ]
        }
      ]
    },
    {
      "cell_type": "markdown",
      "metadata": {
        "id": "HqUXQEPQYkB9"
      },
      "source": [
        "**To check whether a given number is even or odd.**"
      ]
    },
    {
      "cell_type": "code",
      "metadata": {
        "colab": {
          "base_uri": "https://localhost:8080/"
        },
        "id": "pNA48YrGYl5W",
        "outputId": "e049fada-feda-49e0-86bd-f1323f177dc7"
      },
      "source": [
        "num = int(input(\"Enter an Number: \"))\n",
        "\n",
        "if (num % 2) == 0:\n",
        "  print(\"Number is Even\")\n",
        "else:\n",
        "  print(\"Number is Odd\")\n"
      ],
      "execution_count": null,
      "outputs": [
        {
          "output_type": "stream",
          "name": "stdout",
          "text": [
            "Enter an Number: 5\n",
            "Number is Odd\n"
          ]
        }
      ]
    },
    {
      "cell_type": "markdown",
      "metadata": {
        "id": "umX9WtJZaCMg"
      },
      "source": [
        "Program to find digital sum of a given Number\n",
        "   ex: n=123  Digital sum----->1+2+3=6"
      ]
    },
    {
      "cell_type": "code",
      "metadata": {
        "colab": {
          "base_uri": "https://localhost:8080/"
        },
        "id": "UMBtGHiXaLin",
        "outputId": "b932ae5b-7d3a-4ebe-c513-0a073d44e25f"
      },
      "source": [
        "def getSum(n):\n",
        "    \n",
        "    sum = 0\n",
        "    while (n != 0):\n",
        "       \n",
        "        sum = sum + (n % 10)\n",
        "        n = n//10\n",
        "       \n",
        "    return sum\n",
        "   \n",
        "n = 12345\n",
        "print(getSum(n))"
      ],
      "execution_count": null,
      "outputs": [
        {
          "output_type": "stream",
          "name": "stdout",
          "text": [
            "15\n"
          ]
        }
      ]
    },
    {
      "cell_type": "markdown",
      "metadata": {
        "id": "-lus7eI5bQjy"
      },
      "source": [
        "**Program to reverse a given Number.    ex: n=123   Reversed no is 321**"
      ]
    },
    {
      "cell_type": "code",
      "metadata": {
        "colab": {
          "base_uri": "https://localhost:8080/"
        },
        "id": "iRRu3FM5bSgB",
        "outputId": "f77c6b21-701c-4f70-f6aa-83654c513f98"
      },
      "source": [
        "num = 1234\n",
        "reversed_num = 0\n",
        "\n",
        "while num != 0:\n",
        "    digit = num % 10\n",
        "    reversed_num = reversed_num * 10 + digit\n",
        "    num //= 10\n",
        "\n",
        "\n",
        "reversed_num  "
      ],
      "execution_count": null,
      "outputs": [
        {
          "output_type": "execute_result",
          "data": {
            "text/plain": [
              "4321"
            ]
          },
          "metadata": {},
          "execution_count": 28
        }
      ]
    },
    {
      "cell_type": "markdown",
      "metadata": {
        "id": "QYnlyrPOboHH"
      },
      "source": [
        "**Pattern 1**"
      ]
    },
    {
      "cell_type": "code",
      "metadata": {
        "colab": {
          "base_uri": "https://localhost:8080/"
        },
        "id": "ZtBYuvvob-Sz",
        "outputId": "dd6ae582-f70e-41ae-9560-404ba943e094"
      },
      "source": [
        "\n",
        "def pypart(n):\n",
        "    \n",
        "    for i in range(0, n):\n",
        "   \n",
        "        for j in range(0, i+1):\n",
        "\n",
        "            print(\"* \",end=\"\")\n",
        "\n",
        "        print(\"\\r\")\n",
        " \n",
        "n = 5\n",
        "pypart(n)"
      ],
      "execution_count": null,
      "outputs": [
        {
          "output_type": "stream",
          "name": "stdout",
          "text": [
            "* \r\n",
            "* * \r\n",
            "* * * \r\n",
            "* * * * \r\n",
            "* * * * * \r\n"
          ]
        }
      ]
    },
    {
      "cell_type": "markdown",
      "metadata": {
        "id": "T-0FGwYccQPa"
      },
      "source": [
        "**Pattern2**"
      ]
    },
    {
      "cell_type": "code",
      "metadata": {
        "colab": {
          "base_uri": "https://localhost:8080/"
        },
        "id": "5KXNiMCDcUMU",
        "outputId": "bb1ed4b8-25bd-46d5-ccdf-dca7f201506b"
      },
      "source": [
        "\n",
        "def numpat(n):\n",
        "\t\n",
        "\n",
        "\tnum = 1\n",
        "\n",
        "\n",
        "\tfor i in range(0, n):\n",
        "\t\n",
        "\t\tnum = 1\n",
        "\n",
        "\t\tfor j in range(0, i+1):\n",
        "\t\t\n",
        "\n",
        "\t\t\tprint(num, end=\" \")\n",
        "\t\n",
        "\t\t\tnum = num + 1\n",
        "\t\n",
        "\t\tprint(\"\\r\")\n",
        "\n",
        "n = 5\n",
        "numpat(n)\n"
      ],
      "execution_count": null,
      "outputs": [
        {
          "output_type": "stream",
          "name": "stdout",
          "text": [
            "1 \r\n",
            "1 2 \r\n",
            "1 2 3 \r\n",
            "1 2 3 4 \r\n",
            "1 2 3 4 5 \r\n"
          ]
        }
      ]
    },
    {
      "cell_type": "markdown",
      "metadata": {
        "id": "zN9QHwQvcwYu"
      },
      "source": [
        "**Pattern3**"
      ]
    },
    {
      "cell_type": "code",
      "metadata": {
        "colab": {
          "base_uri": "https://localhost:8080/"
        },
        "id": "SWo8ZgTFczRj",
        "outputId": "ed3d8f1c-9bd5-4b58-a887-d9d65129acb0"
      },
      "source": [
        "\n",
        "# Python 3.x code to demonstrate star pattern\n",
        " \n",
        "# Function to demonstrate printing pattern of alphabets\n",
        "def alphapat(n):\n",
        "     \n",
        "    # initializing value corresponding to 'A'\n",
        "    # ASCII value\n",
        "    num = 65\n",
        " \n",
        "    # outer loop to handle number of rows\n",
        "    # 5 in this case\n",
        "    for i in range(0, n):\n",
        "     \n",
        "        # inner loop to handle number of columns\n",
        "        # values changing acc. to outer loop\n",
        "        for j in range(0, i+1):\n",
        "         \n",
        "            # explicitely converting to char\n",
        "            ch = chr(num)\n",
        "         \n",
        "            # printing char value\n",
        "            print(ch, end=\" \")\n",
        "     \n",
        "        # incrementing number\n",
        "        num = num + 1\n",
        "     \n",
        "        # ending line after each row\n",
        "        print(\"\\r\")\n",
        " \n",
        "# Driver Code\n",
        "n = 5\n",
        "alphapat(n)\n"
      ],
      "execution_count": null,
      "outputs": [
        {
          "output_type": "stream",
          "name": "stdout",
          "text": [
            "A \r\n",
            "B B \r\n",
            "C C C \r\n",
            "D D D D \r\n",
            "E E E E E \r\n"
          ]
        }
      ]
    },
    {
      "cell_type": "markdown",
      "metadata": {
        "id": "4vVLboywePec"
      },
      "source": [
        "Write a Python program to get a single string from two given strings, separated by a space and swap the first characters of each string.\n",
        " Sample String : 'abc', 'xyz' \n",
        " Expected Result : 'xbc ayz'**bold text**"
      ]
    },
    {
      "cell_type": "code",
      "metadata": {
        "colab": {
          "base_uri": "https://localhost:8080/"
        },
        "id": "sbTcoJvoeS1Q",
        "outputId": "4f156c7c-1b47-4fa1-a59f-971cad10424b"
      },
      "source": [
        "def chars_mix_up(a, b):\n",
        "  new_a = b[:2] + a[2:]\n",
        "  new_b = a[:2] + b[2:]\n",
        "\n",
        "  return new_a + ' ' + new_b\n",
        "print(chars_mix_up('abc', 'xyz'))\n"
      ],
      "execution_count": null,
      "outputs": [
        {
          "output_type": "stream",
          "name": "stdout",
          "text": [
            "xyc abz\n"
          ]
        }
      ]
    },
    {
      "cell_type": "markdown",
      "metadata": {
        "id": "qBAqRe5Re1ZL"
      },
      "source": [
        "Write a Python program to count the number of characters (character frequency) in a string. \n",
        " Sample String : google.com'\n",
        " Expected Result : {'o': 3, 'g': 2, '.': 1, 'e': 1, 'l': 1, 'm': 1, 'c': 1"
      ]
    },
    {
      "cell_type": "code",
      "metadata": {
        "colab": {
          "base_uri": "https://localhost:8080/"
        },
        "id": "nd4UaoP2e2x8",
        "outputId": "8f63b4da-adba-404d-8c64-f52515a8c7fc"
      },
      "source": [
        "def char_frequency(str1):\n",
        "    dict = {}\n",
        "    for n in str1:\n",
        "        keys = dict.keys()\n",
        "        if n in keys:\n",
        "            dict[n] += 1\n",
        "        else:\n",
        "            dict[n] = 1\n",
        "    return dict\n",
        "print(char_frequency('google.com'))\n"
      ],
      "execution_count": null,
      "outputs": [
        {
          "output_type": "stream",
          "name": "stdout",
          "text": [
            "{'g': 2, 'o': 3, 'l': 1, 'e': 1, '.': 1, 'c': 1, 'm': 1}\n"
          ]
        }
      ]
    },
    {
      "cell_type": "markdown",
      "metadata": {
        "id": "tJ_wgwQIffDx"
      },
      "source": [
        "**Write a Python program that takes input from the user and displays that input back in upper and lower cases.**"
      ]
    },
    {
      "cell_type": "code",
      "metadata": {
        "colab": {
          "base_uri": "https://localhost:8080/"
        },
        "id": "fZ11lb7Pfi4J",
        "outputId": "2ccf0c1c-0b81-412c-c5f8-bf27f0f557b7"
      },
      "source": [
        "user_input = input(\"Enter Your Name\")\n",
        "print(\"Your Name is \", user_input.upper())\n",
        "print(\"Your Name is \", user_input.lower())"
      ],
      "execution_count": null,
      "outputs": [
        {
          "output_type": "stream",
          "name": "stdout",
          "text": [
            "Enter Your NameSiddhant Sharma\n",
            "Your Name is  SIDDHANT SHARMA\n",
            "Your Name is  siddhant sharma\n"
          ]
        }
      ]
    },
    {
      "cell_type": "markdown",
      "metadata": {
        "id": "k-G4okpegEQs"
      },
      "source": [
        "**Write a Python program to remove spaces from a given string.**"
      ]
    },
    {
      "cell_type": "code",
      "metadata": {
        "colab": {
          "base_uri": "https://localhost:8080/"
        },
        "id": "4qKfdam7gF8Z",
        "outputId": "308f183a-040d-4ed4-bd86-00b275847a67"
      },
      "source": [
        "def remove_spaces(str1):\n",
        "  str1 = str1.replace(' ','')\n",
        "  return str1\n",
        "    \n",
        "print(remove_spaces(\"s i d d h a n t\"))\n",
        "print(remove_spaces(\"s h a r m a\"))"
      ],
      "execution_count": null,
      "outputs": [
        {
          "output_type": "stream",
          "name": "stdout",
          "text": [
            "siddhant\n",
            "sharma\n"
          ]
        }
      ]
    },
    {
      "cell_type": "markdown",
      "metadata": {
        "id": "QlHl0j3igiGv"
      },
      "source": [
        "**Write a Python program to find the maximum occurring character in a given string.**"
      ]
    },
    {
      "cell_type": "code",
      "metadata": {
        "colab": {
          "base_uri": "https://localhost:8080/",
          "height": 53
        },
        "id": "qB4ToKEggkCw",
        "outputId": "b7979dd4-52f5-411e-fd14-e5e52809d553"
      },
      "source": [
        "\n",
        "test_str = \"AcroPolisAcroManagementAcro\"\n",
        "\n",
        "# printing original string\n",
        "print (\"The original string is : \" + test_str)\n",
        "\n",
        "# using naive method to get\n",
        "# Maximum frequency character in String\n",
        "all_freq = {}\n",
        "for i in test_str:\n",
        "\tif i in all_freq:\n",
        "\t\tall_freq[i] += 1\n",
        "\telse:\n",
        "\t\tall_freq[i] = 1\n",
        "res = max(all_freq, key = all_freq.get)\n",
        "\n",
        "\n",
        "res\n"
      ],
      "execution_count": null,
      "outputs": [
        {
          "output_type": "stream",
          "name": "stdout",
          "text": [
            "The original string is : AcroPolisAcroManagementAcro\n"
          ]
        },
        {
          "output_type": "execute_result",
          "data": {
            "application/vnd.google.colaboratory.intrinsic+json": {
              "type": "string"
            },
            "text/plain": [
              "'o'"
            ]
          },
          "metadata": {},
          "execution_count": 45
        }
      ]
    },
    {
      "cell_type": "markdown",
      "metadata": {
        "id": "XKvZNemhWdkI"
      },
      "source": [
        "**Write a function x(n) for computing an element in the sequence xn=n^2+1. Call the function for n=4 and write out the result.**"
      ]
    },
    {
      "cell_type": "code",
      "metadata": {
        "colab": {
          "base_uri": "https://localhost:8080/"
        },
        "id": "1wHjNHsnWgOt",
        "outputId": "26b2b4db-a334-4ab1-a4e5-8e7eb119f97b"
      },
      "source": [
        "def x(n):\n",
        "    return n**2 + 1\n",
        "\n",
        "print(x(4))"
      ],
      "execution_count": 3,
      "outputs": [
        {
          "output_type": "stream",
          "name": "stdout",
          "text": [
            "17\n"
          ]
        }
      ]
    },
    {
      "cell_type": "markdown",
      "metadata": {
        "id": "DXSjBQx6XPsU"
      },
      "source": [
        "**Take the following Python code that stores a string: ‘str = 'Y-tatata-acropolis: 0.8475'. Use find and string slicing to extract the portion of the string after the colon character and then use the float function to convert the extracted string into a floating point number.**\n"
      ]
    },
    {
      "cell_type": "code",
      "metadata": {
        "colab": {
          "base_uri": "https://localhost:8080/"
        },
        "id": "qdhfPUFZXR5d",
        "outputId": "9470626b-5e81-4587-c1d6-4343b4ae0c4d"
      },
      "source": [
        "str = 'Y-tatata-acropolis: 0.8475'\n",
        "\n",
        "pos = str.find(':')\n",
        "org_str = str[pos+1:]\n",
        "print(float(org_str))"
      ],
      "execution_count": 5,
      "outputs": [
        {
          "output_type": "stream",
          "name": "stdout",
          "text": [
            "0.8475\n"
          ]
        }
      ]
    },
    {
      "cell_type": "markdown",
      "metadata": {
        "id": "YmD93Dg8cyMV"
      },
      "source": [
        "**Write a function that computes the area of a rectangle. Then, write a second function that calls this function three times to compute the surface area of a rectangular solid.**"
      ]
    },
    {
      "cell_type": "code",
      "metadata": {
        "colab": {
          "base_uri": "https://localhost:8080/"
        },
        "id": "UX1eCws-c2Br",
        "outputId": "e91cbd83-0e86-427c-984b-f1fb7ff5dbe8"
      },
      "source": [
        "def area_of_rect(l,b):\n",
        "    return l*b\n",
        "\n",
        "\n",
        "def surface_area(l,b,h):\n",
        "    return 2 * (area_of_rect(l,b) + area_of_rect(h,l) + area_of_rect(h,b))\n",
        "\n",
        "\n",
        "l = float(input(\"Enter Length : \"))\n",
        "b = float(input(\"Enter Breadth : \"))\n",
        "h = float(input(\"Enter Height : \"))\n",
        "print(surface_area(l,b,h))"
      ],
      "execution_count": 6,
      "outputs": [
        {
          "output_type": "stream",
          "name": "stdout",
          "text": [
            "Enter Length : 2\n",
            "Enter Breadth : 3\n",
            "Enter Height : 4\n",
            "52.0\n"
          ]
        }
      ]
    },
    {
      "cell_type": "markdown",
      "metadata": {
        "id": "FhlSo6DzdyLs"
      },
      "source": [
        "**Create an outer function that will accept three parameters, a, b and c. Create an inner function inside an outer function that will calculate the addition of a, b and c. At last, an outer function will add 5 into addition and return it**"
      ]
    },
    {
      "cell_type": "code",
      "metadata": {
        "colab": {
          "base_uri": "https://localhost:8080/"
        },
        "id": "XWmhz--dd0ok",
        "outputId": "cbc14c31-3102-44d3-9710-eff938d19309"
      },
      "source": [
        "def outer_fun(a, b):\n",
        "\n",
        "    def addition(a, b):\n",
        "        return a + b\n",
        "\n",
        "\n",
        "    add = addition(a, b)\n",
        "    return add + 5\n",
        "\n",
        "\n",
        "\n",
        "result = outer_fun(5, 10)\n",
        "print(result)"
      ],
      "execution_count": 7,
      "outputs": [
        {
          "output_type": "stream",
          "name": "stdout",
          "text": [
            "20\n"
          ]
        }
      ]
    },
    {
      "cell_type": "markdown",
      "metadata": {
        "id": "u49bxhhFewk7"
      },
      "source": [
        "**Write a program to create a recursive function to calculate the product of numbers from 10 to 100.**"
      ]
    },
    {
      "cell_type": "code",
      "metadata": {
        "colab": {
          "base_uri": "https://localhost:8080/"
        },
        "id": "uZatzJsGeyj0",
        "outputId": "f5cf5685-2483-4b7b-eaeb-17151d686e8b"
      },
      "source": [
        "def mult(num):\n",
        "    if (num == 10):\n",
        "        return num\n",
        "\n",
        "    return num * mult(num-1)\n",
        "\n",
        "\n",
        "res = mult(100)\n",
        "print(res)"
      ],
      "execution_count": 8,
      "outputs": [
        {
          "output_type": "stream",
          "name": "stdout",
          "text": [
            "257182031095525112107857249934597388918419224714455526533820998388496472644482792132224051962512451185663850090463028434334174412800000000000000000000000\n"
          ]
        }
      ]
    },
    {
      "cell_type": "markdown",
      "metadata": {
        "id": "PQnRfzBoe__X"
      },
      "source": [
        "**Write a Python function  to check whether the given integer is a prime number or not.**"
      ]
    },
    {
      "cell_type": "code",
      "metadata": {
        "colab": {
          "base_uri": "https://localhost:8080/"
        },
        "id": "eKra_HSXfRXS",
        "outputId": "d06d17c0-6c38-4fc5-b958-ccc8236abf17"
      },
      "source": [
        "\n",
        "num = 11\n",
        "\n",
        "if num > 1:\n",
        "\n",
        "\tfor i in range(2, int(num/2)+1):\n",
        "\n",
        "\t\tif (num % i) == 0:\n",
        "\t\t\tprint(num, \"is not a prime number\")\n",
        "\t\t\tbreak\n",
        "\telse:\n",
        "\t\tprint(num, \"is a prime number\")\n",
        "\n",
        "else:\n",
        "\tprint(num, \"is not a prime number\")\n"
      ],
      "execution_count": 9,
      "outputs": [
        {
          "output_type": "stream",
          "name": "stdout",
          "text": [
            "11 is a prime number\n"
          ]
        }
      ]
    },
    {
      "cell_type": "markdown",
      "metadata": {
        "id": "K6kxD7H7fmgK"
      },
      "source": [
        "**Python program to display the sum of input (n) numbers using a list.**"
      ]
    },
    {
      "cell_type": "code",
      "metadata": {
        "colab": {
          "base_uri": "https://localhost:8080/"
        },
        "id": "jvB4Rb_5fotk",
        "outputId": "de49ff54-3492-4366-ddfb-ba8c53e5147e"
      },
      "source": [
        "\n",
        "total = 0\n",
        "\n",
        "list1 = [11, 5, 17, 18, 23]\n",
        "\n",
        "for ele in range(0, len(list1)):\n",
        "\ttotal = total + list1[ele]\n",
        "\n",
        "print(\"Sum of all elements in given list: \", total)\n"
      ],
      "execution_count": 10,
      "outputs": [
        {
          "output_type": "stream",
          "name": "stdout",
          "text": [
            "Sum of all elements in given list:  74\n"
          ]
        }
      ]
    },
    {
      "cell_type": "markdown",
      "metadata": {
        "id": "8LMn6X0mf8Hi"
      },
      "source": [
        "**Python program to insert a number to given position in a list.**"
      ]
    },
    {
      "cell_type": "code",
      "metadata": {
        "colab": {
          "base_uri": "https://localhost:8080/"
        },
        "id": "3-YcQRqCf-F2",
        "outputId": "3dc2b5b8-2ee4-4ea5-c218-b93c433ffd7c"
      },
      "source": [
        "\n",
        "\n",
        "list1 = [ 1, 2, 3, 4, 5, 6, 7 ]\n",
        "\n",
        "list1.insert(4, 10)\n",
        "print(list1)\n",
        "\n",
        "list2 = ['a', 'b', 'c', 'd', 'e']\n",
        "\n",
        "list2.insert(0, 'z')\n",
        "print(list2)\n"
      ],
      "execution_count": 11,
      "outputs": [
        {
          "output_type": "stream",
          "name": "stdout",
          "text": [
            "[1, 2, 3, 4, 10, 5, 6, 7]\n",
            "['z', 'a', 'b', 'c', 'd', 'e']\n"
          ]
        }
      ]
    },
    {
      "cell_type": "markdown",
      "metadata": {
        "id": "NU205UwzfC7u"
      },
      "source": [
        ""
      ]
    }
  ]
}