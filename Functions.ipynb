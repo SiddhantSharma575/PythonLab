{
  "cells": [
    {
      "cell_type": "markdown",
      "metadata": {
        "id": "WAfoXOBajA8P"
      },
      "source": [
        "**Functions**"
      ]
    },
    {
      "cell_type": "markdown",
      "metadata": {
        "id": "3d0DpSfOjO54"
      },
      "source": [
        "**Definition**\n",
        "\n",
        "---\n",
        "\n"
      ]
    },
    {
      "cell_type": "code",
      "execution_count": 1,
      "metadata": {
        "colab": {
          "base_uri": "https://localhost:8080/"
        },
        "id": "X4Vx0vrPjTlX",
        "outputId": "b4aafe23-fd57-495a-dd9c-3060f78f8517"
      },
      "outputs": [
        {
          "name": "stdout",
          "output_type": "stream",
          "text": [
            "Hello World\n"
          ]
        }
      ],
      "source": [
        "def my_function():\n",
        "  print(\"Hello World\")\n",
        "\n",
        "my_function();"
      ]
    },
    {
      "cell_type": "markdown",
      "metadata": {
        "id": "_nbhG6IHjw82"
      },
      "source": [
        "**Invocation**"
      ]
    },
    {
      "cell_type": "code",
      "execution_count": 2,
      "metadata": {
        "colab": {
          "base_uri": "https://localhost:8080/"
        },
        "id": "7CJ-J6FwjzO-",
        "outputId": "98be2032-9789-4d1b-e63f-75e300d89a08"
      },
      "outputs": [
        {
          "name": "stdout",
          "output_type": "stream",
          "text": [
            "0\n",
            "1\n",
            "4\n",
            "9\n",
            "16\n",
            "25\n",
            "36\n",
            "49\n",
            "64\n",
            "81\n"
          ]
        }
      ],
      "source": [
        "def squareOfNum(x):\n",
        "    print(x*x)\n",
        "\n",
        "for i in range(10):\n",
        "    squareOfNum(i)"
      ]
    },
    {
      "cell_type": "markdown",
      "metadata": {
        "id": "p1KZ9BQZj-k1"
      },
      "source": [
        "**Arguments**"
      ]
    },
    {
      "cell_type": "code",
      "execution_count": 3,
      "metadata": {
        "colab": {
          "base_uri": "https://localhost:8080/"
        },
        "id": "D4fBxzkFkAkG",
        "outputId": "72a6bbbf-e7af-4a80-93c7-68a084ef391b"
      },
      "outputs": [
        {
          "name": "stdout",
          "output_type": "stream",
          "text": [
            "Hello Siddhant\n"
          ]
        }
      ],
      "source": [
        "def greet(name):\n",
        "    print(\"Hello\", name)\n",
        "\n",
        "greet(\"Siddhant\")\n"
      ]
    },
    {
      "cell_type": "markdown",
      "metadata": {
        "id": "ur1dGMXSkNSb"
      },
      "source": [
        "**Keyword** **Arguments**"
      ]
    },
    {
      "cell_type": "code",
      "execution_count": 4,
      "metadata": {
        "colab": {
          "base_uri": "https://localhost:8080/"
        },
        "id": "o9WJkNAKkPfA",
        "outputId": "8c2fc6f7-c74f-4391-e5c5-365b44cc69c1"
      },
      "outputs": [
        {
          "name": "stdout",
          "output_type": "stream",
          "text": [
            "Model: Techo\n",
            "Year: 2020\n"
          ]
        }
      ],
      "source": [
        "def cardetails(model, year):\n",
        "    print(\"Model:\", model)\n",
        "    print(\"Year:\", year)\n",
        "\n",
        "cardetails(\"Techo\", 2020)"
      ]
    },
    {
      "cell_type": "markdown",
      "metadata": {
        "id": "BQd8zd5ukd1C"
      },
      "source": [
        "\n",
        "**Default** **Arguments**"
      ]
    },
    {
      "cell_type": "code",
      "execution_count": 5,
      "metadata": {
        "colab": {
          "base_uri": "https://localhost:8080/"
        },
        "id": "h6ijF8wckh_8",
        "outputId": "825a253d-3a52-4f69-a9e3-a669d585bd3e"
      },
      "outputs": [
        {
          "name": "stdout",
          "output_type": "stream",
          "text": [
            "Product: Jeans\n",
            "Price: Rs. 1200\n",
            "Discount: Rs. 120.0\n"
          ]
        }
      ],
      "source": [
        "def calculateBill(product_name, price, discount = 0.1):\n",
        "    print(\"Product:\", product_name)\n",
        "    print(\"Price: Rs.\", price)\n",
        "    print(\"Discount: Rs.\", price*discount)\n",
        "\n",
        "calculateBill(\"Jeans\", 1200)"
      ]
    },
    {
      "cell_type": "markdown",
      "metadata": {
        "id": "5ziei_irk09p"
      },
      "source": [
        "**Variable Length Arguments**"
      ]
    },
    {
      "cell_type": "code",
      "execution_count": 7,
      "metadata": {
        "colab": {
          "base_uri": "https://localhost:8080/"
        },
        "id": "JWdKkHyfk2ta",
        "outputId": "fde82eac-512e-407e-d97f-adbeef195151"
      },
      "outputs": [
        {
          "name": "stdout",
          "output_type": "stream",
          "text": [
            "Average: 231.2\n"
          ]
        }
      ],
      "source": [
        "def avg(*nums):\n",
        "    \n",
        "    total = 0\n",
        "    n = len(nums)\n",
        "    \n",
        "    for i in nums:\n",
        "        total += i\n",
        " \n",
        "    avg = total/n\n",
        "    print(\"Average:\", avg)\n",
        " \n",
        "avg(78,55,33,90,900)"
      ]
    },
    {
      "cell_type": "markdown",
      "metadata": {
        "id": "GlRvnhiUlMmj"
      },
      "source": [
        "\n",
        "**pass Statement**"
      ]
    },
    {
      "cell_type": "code",
      "execution_count": 8,
      "metadata": {
        "id": "nZ_BZjWwlPj2"
      },
      "outputs": [],
      "source": [
        "def func():\n",
        "    pass\n",
        "\n",
        "func()"
      ]
    },
    {
      "cell_type": "markdown",
      "metadata": {
        "id": "Z0uCty1mlVoF"
      },
      "source": [
        "**return Statement**"
      ]
    },
    {
      "cell_type": "code",
      "execution_count": 9,
      "metadata": {
        "colab": {
          "base_uri": "https://localhost:8080/"
        },
        "id": "BwAY2gDAlfKJ",
        "outputId": "3bf18b76-981c-4622-fbe6-144c80445e0a"
      },
      "outputs": [
        {
          "name": "stdout",
          "output_type": "stream",
          "text": [
            "8\n"
          ]
        }
      ],
      "source": [
        "def cube(num):\n",
        "    c = num ** 3\n",
        "    return c\n",
        "\n",
        "print(cube(2))"
      ]
    },
    {
      "cell_type": "markdown",
      "metadata": {
        "id": "Ba80gsDPlnKT"
      },
      "source": [
        "\n",
        "**Recursion**"
      ]
    },
    {
      "cell_type": "code",
      "execution_count": 10,
      "metadata": {
        "colab": {
          "base_uri": "https://localhost:8080/"
        },
        "id": "H-I1nZ78ltju",
        "outputId": "e886ea6b-8aad-43f1-a598-8798210390e2"
      },
      "outputs": [
        {
          "name": "stdout",
          "output_type": "stream",
          "text": [
            "Enter a number : 5\n",
            "The factorial of 5 is 120.\n"
          ]
        }
      ],
      "source": [
        "def factorial(x):\n",
        "\n",
        "    x = int(x)\n",
        "    if x == 0:\n",
        "        return 1\n",
        "    \n",
        "    else:\n",
        "        return (x * factorial(x-1))\n",
        "\n",
        "\n",
        "num = int(input(\"Enter a number : \"))\n",
        "print(f\"The factorial of {num} is {factorial(num)}.\")"
      ]
    },
    {
      "cell_type": "markdown",
      "metadata": {
        "id": "d7_Qy9A3l86g"
      },
      "source": [
        "**Special** **Functions**"
      ]
    },
    {
      "cell_type": "markdown",
      "metadata": {
        "id": "sUsV2s-Nl_g5"
      },
      "source": [
        "**lambda** **Function**"
      ]
    },
    {
      "cell_type": "code",
      "execution_count": 11,
      "metadata": {
        "colab": {
          "base_uri": "https://localhost:8080/"
        },
        "id": "UzQccAKTmD6l",
        "outputId": "a340f2cf-dbd3-4756-e296-0f8b7cd64c63"
      },
      "outputs": [
        {
          "name": "stdout",
          "output_type": "stream",
          "text": [
            "56\n"
          ]
        }
      ],
      "source": [
        "sum = lambda a, b : a + b\n",
        "\n",
        "print(sum(31, 25))"
      ]
    },
    {
      "cell_type": "markdown",
      "metadata": {
        "id": "dakBf3ZVmO02"
      },
      "source": [
        "**map**() **Function**"
      ]
    },
    {
      "cell_type": "code",
      "execution_count": 12,
      "metadata": {
        "colab": {
          "base_uri": "https://localhost:8080/"
        },
        "id": "ZDKm5lw-mU1p",
        "outputId": "9fe81662-d897-48a3-a774-980c2c915c38"
      },
      "outputs": [
        {
          "name": "stdout",
          "output_type": "stream",
          "text": [
            "[8, 6, 4, 2]\n"
          ]
        }
      ],
      "source": [
        "numbers = (4,3,2,1) \n",
        "result = map(lambda x: x * 2, numbers)\n",
        "print(list(result))"
      ]
    },
    {
      "cell_type": "markdown",
      "metadata": {
        "id": "xfnwHH9pmbb4"
      },
      "source": [
        " **zip**() **Function**"
      ]
    },
    {
      "cell_type": "code",
      "execution_count": 13,
      "metadata": {
        "colab": {
          "base_uri": "https://localhost:8080/"
        },
        "id": "kjL_ohh5mlFS",
        "outputId": "577ece4a-bd84-4312-da17-54e26a8d6047"
      },
      "outputs": [
        {
          "name": "stdout",
          "output_type": "stream",
          "text": [
            "[(1, 'a'), (2, 'b'), (3, 'c')]\n"
          ]
        }
      ],
      "source": [
        "numbers = [1, 2, 3]\n",
        "letters = ['a', 'b', 'c']\n",
        "\n",
        "zipped = zip(numbers, letters)\n",
        "\n",
        "print(list(zipped))"
      ]
    }
  ],
  "metadata": {
    "colab": {
      "name": "Functions.ipynb",
      "provenance": []
    },
    "kernelspec": {
      "display_name": "Python 3",
      "name": "python3"
    },
    "language_info": {
      "name": "python"
    }
  },
  "nbformat": 4,
  "nbformat_minor": 0
}
