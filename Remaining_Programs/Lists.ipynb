{
  "cells": [
    {
      "cell_type": "markdown",
      "metadata": {
        "id": "JxDzOcdpnhDO"
      },
      "source": [
        "**Lists**"
      ]
    },
    {
      "cell_type": "code",
      "execution_count": 2,
      "metadata": {
        "colab": {
          "base_uri": "https://localhost:8080/"
        },
        "id": "IsAjURYZniwB",
        "outputId": "38fd5584-64de-4e74-8955-e09921b6399d"
      },
      "outputs": [
        {
          "name": "stdout",
          "output_type": "stream",
          "text": [
            "[2, 4, 6]\n"
          ]
        }
      ],
      "source": [
        "lst = [2, 4, 6]\n",
        "\n",
        "print(lst)"
      ]
    },
    {
      "cell_type": "markdown",
      "metadata": {
        "id": "ndtdVmDXnxsK"
      },
      "source": [
        "**Accessing** **Items**"
      ]
    },
    {
      "cell_type": "code",
      "execution_count": 3,
      "metadata": {
        "colab": {
          "base_uri": "https://localhost:8080/"
        },
        "id": "I6LQHnIrn0By",
        "outputId": "81cc3e11-9181-4e6c-8243-0ae26e2fce0b"
      },
      "outputs": [
        {
          "name": "stdout",
          "output_type": "stream",
          "text": [
            "Apple\n",
            "Mango\n",
            "Orange\n",
            "Grapes\n"
          ]
        }
      ],
      "source": [
        "\n",
        "lst = [\"Apple\",\"Mango\",\"Orange\",\"Grapes\"]\n",
        "\n",
        "for item in lst:\n",
        "    print(item)"
      ]
    },
    {
      "cell_type": "markdown",
      "metadata": {
        "id": "XcpY5AhIoBmk"
      },
      "source": [
        "**Slicing**"
      ]
    },
    {
      "cell_type": "code",
      "execution_count": 4,
      "metadata": {
        "colab": {
          "base_uri": "https://localhost:8080/"
        },
        "id": "Vj-D3qTAoEjk",
        "outputId": "2bf6b1eb-588b-4690-d257-3bde6397c14e"
      },
      "outputs": [
        {
          "data": {
            "text/plain": [
              "[3, 4, 5, 6, 7, 8]"
            ]
          },
          "execution_count": 4,
          "metadata": {},
          "output_type": "execute_result"
        }
      ],
      "source": [
        "lst = [1, 2, 3, 4, 5, 6, 7, 8, 9]\n",
        "\n",
        "print(lst[2:8])"
      ]
    },
    {
      "cell_type": "markdown",
      "metadata": {
        "id": "fXAEt6QYoJ6j"
      },
      "source": [
        "**Adding** **to** **Lists**"
      ]
    },
    {
      "cell_type": "code",
      "execution_count": null,
      "metadata": {
        "colab": {
          "base_uri": "https://localhost:8080/"
        },
        "id": "up3JmPy1oPkQ",
        "outputId": "3036954d-89ed-456a-c465-960182efbe20"
      },
      "outputs": [
        {
          "data": {
            "text/plain": [
              "['Apple', 'Mango', 'Orange', 'Grapes', 'Banana', 'Guava']"
            ]
          },
          "execution_count": 5,
          "metadata": {},
          "output_type": "execute_result"
        }
      ],
      "source": [
        "list1 = [\"Apple\",\"Mango\",\"Orange\",\"Grapes\"] \n",
        "list2 = [\"Banana\",\"Guava\"] \n",
        "\n",
        "print(list1 + list2)"
      ]
    },
    {
      "cell_type": "markdown",
      "metadata": {
        "id": "KcWzVjeCodIq"
      },
      "source": [
        "**append**() **method**"
      ]
    },
    {
      "cell_type": "code",
      "execution_count": 6,
      "metadata": {
        "colab": {
          "base_uri": "https://localhost:8080/"
        },
        "id": "oXIosv1Zokt2",
        "outputId": "f80b3f21-e6c1-47d9-8bca-11546afeb704"
      },
      "outputs": [
        {
          "data": {
            "text/plain": [
              "[1, 2, 3, 4, 5]"
            ]
          },
          "execution_count": 6,
          "metadata": {},
          "output_type": "execute_result"
        }
      ],
      "source": [
        "\n",
        "lst = [1, 2, 3, 4]\n",
        "\n",
        "lst.append(5)\n",
        "\n",
        "print(lst)"
      ]
    },
    {
      "cell_type": "markdown",
      "metadata": {
        "id": "WPf2_IJHopmt"
      },
      "source": [
        "\n",
        "**extend**() **method**"
      ]
    },
    {
      "cell_type": "code",
      "execution_count": null,
      "metadata": {
        "id": "5-CtcgLNotmU"
      },
      "outputs": [],
      "source": [
        "\n",
        "list1 = [\"Koenigsegg\", \"Tesla\", \"Lamborghini\", \"Buggati\"]\n",
        "list2 = [\"Audi\", \"Mercedes\", \"BMW\"] \n",
        "\n",
        "list1.extend(list2)\n",
        "\n",
        "print(list1)"
      ]
    },
    {
      "cell_type": "markdown",
      "metadata": {
        "id": "102RyhuEo9Dx"
      },
      "source": [
        "**Deleting** **from** **a** **List**"
      ]
    },
    {
      "cell_type": "markdown",
      "metadata": {
        "id": "6ToJV_LipGLB"
      },
      "source": [
        "**del** **keyword**"
      ]
    },
    {
      "cell_type": "code",
      "execution_count": 8,
      "metadata": {
        "colab": {
          "base_uri": "https://localhost:8080/"
        },
        "id": "_QSfW-IxpIaL",
        "outputId": "4808ff67-3707-4d46-f5dc-3cbb6997836f"
      },
      "outputs": [
        {
          "data": {
            "text/plain": [
              "['Apple', 'Mango']"
            ]
          },
          "execution_count": 8,
          "metadata": {},
          "output_type": "execute_result"
        }
      ],
      "source": [
        "lst = [\"Apple\",\"Mango\",\"Banana\"]\n",
        "\n",
        "del lst[2]\n",
        "\n",
        "print(lst)"
      ]
    },
    {
      "cell_type": "markdown",
      "metadata": {
        "id": "zc9CzuT6pV7x"
      },
      "source": [
        "**remove**() **method**"
      ]
    },
    {
      "cell_type": "code",
      "execution_count": 9,
      "metadata": {
        "colab": {
          "base_uri": "https://localhost:8080/"
        },
        "id": "rle2Jq3rpYum",
        "outputId": "79223227-5f68-4e00-c91f-1b04d0c35032"
      },
      "outputs": [
        {
          "data": {
            "text/plain": [
              "['Apple', 'Banana']"
            ]
          },
          "execution_count": 9,
          "metadata": {},
          "output_type": "execute_result"
        }
      ],
      "source": [
        "lst = [\"Apple\",\"Mango\",\"Banana\"] \n",
        "\n",
        "lst.remove(\"Mango\")\n",
        "\n",
        "print(lst)"
      ]
    },
    {
      "cell_type": "markdown",
      "metadata": {
        "id": "VY1jSMjTpqpk"
      },
      "source": [
        "**pop**() **method**"
      ]
    },
    {
      "cell_type": "code",
      "execution_count": 10,
      "metadata": {
        "colab": {
          "base_uri": "https://localhost:8080/"
        },
        "id": "J8XzqB5UptCs",
        "outputId": "f432f580-8c5c-448b-b97b-12b0350be33b"
      },
      "outputs": [
        {
          "data": {
            "text/plain": [
              "['Apple', 'Mango']"
            ]
          },
          "execution_count": 10,
          "metadata": {},
          "output_type": "execute_result"
        }
      ],
      "source": [
        "lst = [\"Apple\",\"Mango\",\"Banana\"]\n",
        "\n",
        "lst.pop()\n",
        "\n",
        "print(lst)"
      ]
    },
    {
      "cell_type": "markdown",
      "metadata": {
        "id": "efVMVZfsp4SS"
      },
      "source": [
        "**Methods**"
      ]
    },
    {
      "cell_type": "markdown",
      "metadata": {
        "id": "QnMW9y0hp91w"
      },
      "source": [
        "**index**()"
      ]
    },
    {
      "cell_type": "code",
      "execution_count": 11,
      "metadata": {
        "colab": {
          "base_uri": "https://localhost:8080/"
        },
        "id": "T7-2kqLrp_t3",
        "outputId": "43694a72-ac83-4206-ad4f-6b5b0f19bcab"
      },
      "outputs": [
        {
          "data": {
            "text/plain": [
              "3"
            ]
          },
          "execution_count": 11,
          "metadata": {},
          "output_type": "execute_result"
        }
      ],
      "source": [
        "lst = [23, 12, 5, 1, 2, 3, 4, 1, 8, 9]\n",
        "\n",
        "print(lst.index(1))"
      ]
    },
    {
      "cell_type": "markdown",
      "metadata": {
        "id": "PU00nEOcqG_N"
      },
      "source": [
        "**reverse**()"
      ]
    },
    {
      "cell_type": "code",
      "execution_count": 12,
      "metadata": {
        "colab": {
          "base_uri": "https://localhost:8080/"
        },
        "id": "QZNwzzsjqKiG",
        "outputId": "a1d6b82b-1ce0-4064-d73f-a76d23dc3dbf"
      },
      "outputs": [
        {
          "data": {
            "text/plain": [
              "[7, 6, 5, 4, 3, 2, 1]"
            ]
          },
          "execution_count": 12,
          "metadata": {},
          "output_type": "execute_result"
        }
      ],
      "source": [
        "lst = [1, 2, 3, 4, 5, 6, 7]\n",
        "\n",
        "lst.reverse()\n",
        "\n",
        "print(lst)"
      ]
    },
    {
      "cell_type": "markdown",
      "metadata": {
        "id": "A3yETvquqVol"
      },
      "source": [
        "**sort()**"
      ]
    },
    {
      "cell_type": "code",
      "execution_count": 13,
      "metadata": {
        "colab": {
          "base_uri": "https://localhost:8080/"
        },
        "id": "0u0ZT_VdqXro",
        "outputId": "01ea22b1-566e-4435-d747-b386f3e01dbf"
      },
      "outputs": [
        {
          "data": {
            "text/plain": [
              "[1, 3, 4, 23, 24, 68, 79, 100]"
            ]
          },
          "execution_count": 13,
          "metadata": {},
          "output_type": "execute_result"
        }
      ],
      "source": [
        "lst = [1, 23, 24, 3, 4, 100, 68, 79]\n",
        "\n",
        "lst.sort()\n",
        "\n",
        "print(lst)"
      ]
    }
  ],
  "metadata": {
    "colab": {
      "name": "Lists.ipynb",
      "provenance": []
    },
    "interpreter": {
      "hash": "63fd5069d213b44bf678585dea6b12cceca9941eaf7f819626cde1f2670de90d"
    },
    "kernelspec": {
      "display_name": "Python 3.9.6 64-bit",
      "name": "python3"
    },
    "language_info": {
      "name": "python",
      "version": "3.9.6"
    }
  },
  "nbformat": 4,
  "nbformat_minor": 0
}
